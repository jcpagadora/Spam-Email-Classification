{
 "cells": [
  {
   "cell_type": "markdown",
   "metadata": {},
   "source": [
    "# Spam Email Classifier\n",
    "\n",
    "This notebook will contain all research work for the common classification problem of determining whether a given email is spam or not. This is mainly to demonstrate my skills in exploratory data analysis, feature engineering, feature selection, and modelling. For the purposes of interpretability, we will mainly focus on using logistic regression as a means of classification. Outside of this notebook, I hope to demonstrate skills in developing a good pipeline to deploy such a classifier.\n",
    "\n",
    "### Why is this important?\n",
    "We are inundated with emails almost constantly, with some being important, and countless others being spam. Thus, we want to build an automatic classifier that throws away spam email, but keeps the important emails for us to see. This will save us a lot time from having to sift through a lot of junk emails.\n",
    "\n",
    "### Model Objective\n",
    "Our model should obviously have a high accuracy, but to be safe, we prefer a low false positive rate so that no one misses actual important emails. Thus, we also wish to have a high area under the ROC curve score.\n",
    "\n",
    "### The Data\n",
    "We have two csv files already downloaded. They each contain data that are structured with four attributes:\n",
    "\n",
    "- `id`: The ID of the sample email data\n",
    "- `subject`: The subject of the email\n",
    "- `email`: The text of the email itself\n",
    "- `spam`: 1 if the email is spam, 0 if not"
   ]
  },
  {
   "cell_type": "code",
   "execution_count": null,
   "metadata": {},
   "outputs": [],
   "source": []
  }
 ],
 "metadata": {
  "kernelspec": {
   "display_name": "Python 3",
   "language": "python",
   "name": "python3"
  },
  "language_info": {
   "codemirror_mode": {
    "name": "ipython",
    "version": 3
   },
   "file_extension": ".py",
   "mimetype": "text/x-python",
   "name": "python",
   "nbconvert_exporter": "python",
   "pygments_lexer": "ipython3",
   "version": "3.7.4"
  }
 },
 "nbformat": 4,
 "nbformat_minor": 2
}
